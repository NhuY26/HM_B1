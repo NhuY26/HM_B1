{
  "nbformat": 4,
  "nbformat_minor": 0,
  "metadata": {
    "colab": {
      "provenance": [],
      "include_colab_link": true
    },
    "kernelspec": {
      "name": "python3",
      "display_name": "Python 3"
    },
    "language_info": {
      "name": "python"
    }
  },
  "cells": [
    {
      "cell_type": "markdown",
      "metadata": {
        "id": "view-in-github",
        "colab_type": "text"
      },
      "source": [
        "<a href=\"https://colab.research.google.com/github/NhuY26/HM_B1/blob/main/B%C3%A0i_1_Vector_v%C3%A0_Ma_tr%E1%BA%ADn.ipynb\" target=\"_parent\"><img src=\"https://colab.research.google.com/assets/colab-badge.svg\" alt=\"Open In Colab\"/></a>"
      ]
    },
    {
      "cell_type": "code",
      "execution_count": 1,
      "metadata": {
        "id": "_TSmVkxvGWqV"
      },
      "outputs": [],
      "source": [
        "import numpy as np"
      ]
    },
    {
      "cell_type": "markdown",
      "source": [
        "Cho v là 1 vector hàng\n",
        "v = [1, 2, 3, 4, 5]"
      ],
      "metadata": {
        "id": "A3WuFZCoIFIh"
      }
    },
    {
      "cell_type": "code",
      "source": [
        "v = np.array([1,2,3,4,5])\n",
        "print(v)"
      ],
      "metadata": {
        "colab": {
          "base_uri": "https://localhost:8080/"
        },
        "id": "JQuSKqRwHWTd",
        "outputId": "9f59a90d-13b5-4de2-98da-28f294b8754a"
      },
      "execution_count": 2,
      "outputs": [
        {
          "output_type": "stream",
          "name": "stdout",
          "text": [
            "[1 2 3 4 5]\n"
          ]
        }
      ]
    },
    {
      "cell_type": "markdown",
      "source": [
        "Cho w là 1 vcetor cột\n",
        "w = [1; 2; 3; 4; 5]"
      ],
      "metadata": {
        "id": "wB5lKUe1IK4W"
      }
    },
    {
      "cell_type": "code",
      "source": [
        "w = np.array([[1],\n",
        "              [2],\n",
        "              [3],\n",
        "              [4],\n",
        "              [5]])\n",
        "print(w)"
      ],
      "metadata": {
        "colab": {
          "base_uri": "https://localhost:8080/"
        },
        "id": "LJdb18adINvc",
        "outputId": "c208f9f7-5854-442a-f0e8-95bb7fedef91"
      },
      "execution_count": 3,
      "outputs": [
        {
          "output_type": "stream",
          "name": "stdout",
          "text": [
            "[[1]\n",
            " [2]\n",
            " [3]\n",
            " [4]\n",
            " [5]]\n"
          ]
        }
      ]
    },
    {
      "cell_type": "markdown",
      "source": [
        "(Hãy xác định số chiều (ndim), kích thước\n",
        "(shape) của 2 vector v và w; In 2 vector v và w\n",
        "ra màn hình; Nhận xét điểm khác biệt của kết\n",
        "quả)"
      ],
      "metadata": {
        "id": "IvaocDgWJJ-p"
      }
    },
    {
      "cell_type": "code",
      "source": [
        "print(\"số chiều vector v: \", v.ndim)\n",
        "print(\"kích thước vector v: \", v.shape)\n",
        "print(\"số chiều vector w: \", w.ndim)\n",
        "print(\"kích thước vector w: \", w.shape)\n",
        "print(\"vector v: \", v)\n",
        "print(\"vector w: \\n\", w)\n"
      ],
      "metadata": {
        "colab": {
          "base_uri": "https://localhost:8080/"
        },
        "id": "wnrHK9WUJN2T",
        "outputId": "bb352751-8e2c-41b0-bc4b-18c97e7201f8"
      },
      "execution_count": 4,
      "outputs": [
        {
          "output_type": "stream",
          "name": "stdout",
          "text": [
            "số chiều vector v:  1\n",
            "kích thước vector v:  (5,)\n",
            "số chiều vector w:  2\n",
            "kích thước vector w:  (5, 1)\n",
            "vector v:  [1 2 3 4 5]\n",
            "vector w: \n",
            " [[1]\n",
            " [2]\n",
            " [3]\n",
            " [4]\n",
            " [5]]\n"
          ]
        }
      ]
    },
    {
      "cell_type": "markdown",
      "source": [
        "Cho u và w là 2 vector cột có kích thước\n",
        "(m, 1). Hãy tạo ma trận X bằng cách\n",
        "ghép 2 vector cột u và w lại với nhau\n",
        "X = [u, w]"
      ],
      "metadata": {
        "id": "vtBuFnWAJteQ"
      }
    },
    {
      "cell_type": "code",
      "source": [
        "u = np.array([[7],\n",
        "              [8],\n",
        "              [9],\n",
        "              [10],\n",
        "              [6]])\n",
        "X = np.hstack((u,w))\n",
        "print(\"số chiều X: \", X.ndim)\n",
        "print(\"kích thước X: \", X.shape)\n",
        "print(X)"
      ],
      "metadata": {
        "colab": {
          "base_uri": "https://localhost:8080/"
        },
        "id": "JVLUQoD9KEOP",
        "outputId": "155e6597-fb15-4fb9-ec7c-b0d49f4f099d"
      },
      "execution_count": 5,
      "outputs": [
        {
          "output_type": "stream",
          "name": "stdout",
          "text": [
            "số chiều X:  2\n",
            "kích thước X:  (5, 2)\n",
            "[[ 7  1]\n",
            " [ 8  2]\n",
            " [ 9  3]\n",
            " [10  4]\n",
            " [ 6  5]]\n"
          ]
        }
      ]
    },
    {
      "cell_type": "markdown",
      "source": [
        "Hãy tạo ma trận X"
      ],
      "metadata": {
        "id": "uYSoT-XsK8OG"
      }
    },
    {
      "cell_type": "code",
      "source": [
        "X = np.array([[1,2,3,4,5],\n",
        "             [6,7,8,9,2],\n",
        "             [4,5,7,2,1]])\n",
        "Y = np.reshape(X , (3,5))\n",
        "print(X)\n",
        "print(Y)\n",
        "print(\"Số chiều: \", X.ndim)\n",
        "print(\"Kích thước: \", X.shape)"
      ],
      "metadata": {
        "colab": {
          "base_uri": "https://localhost:8080/"
        },
        "id": "ZGXD2cBnLxJS",
        "outputId": "53833b7a-3492-4de1-e909-035a5774319c"
      },
      "execution_count": 6,
      "outputs": [
        {
          "output_type": "stream",
          "name": "stdout",
          "text": [
            "[[1 2 3 4 5]\n",
            " [6 7 8 9 2]\n",
            " [4 5 7 2 1]]\n",
            "[[1 2 3 4 5]\n",
            " [6 7 8 9 2]\n",
            " [4 5 7 2 1]]\n",
            "Số chiều:  2\n",
            "Kích thước:  (3, 5)\n"
          ]
        }
      ]
    },
    {
      "cell_type": "markdown",
      "source": [
        "Hãy nhân ma trận X với vector v"
      ],
      "metadata": {
        "id": "cCLftBUiNCfl"
      }
    },
    {
      "cell_type": "code",
      "source": [
        "Xv = np.dot(X, v)\n",
        "print(\"Chiều: \", Xv.ndim)\n",
        "print(\"Kích thước: \", Xv.shape)\n",
        "print(Xv)"
      ],
      "metadata": {
        "colab": {
          "base_uri": "https://localhost:8080/"
        },
        "id": "dm21YpTeNFk7",
        "outputId": "9a1b5116-b894-4405-f208-b73b5ebefb3a"
      },
      "execution_count": 7,
      "outputs": [
        {
          "output_type": "stream",
          "name": "stdout",
          "text": [
            "Chiều:  1\n",
            "Kích thước:  (3,)\n",
            "[55 90 48]\n"
          ]
        }
      ]
    },
    {
      "cell_type": "markdown",
      "source": [
        "Hãy nhân ma trận X với vector w"
      ],
      "metadata": {
        "id": "v3S8vUnUNuVP"
      }
    },
    {
      "cell_type": "code",
      "source": [
        "Xw = np.dot(X, w)\n",
        "print(\"Chiều: \", Xw.ndim)\n",
        "print(\"Kích thước: \", Xw.shape)\n",
        "print(Xw)"
      ],
      "metadata": {
        "colab": {
          "base_uri": "https://localhost:8080/"
        },
        "id": "WEkdfGknNyWA",
        "outputId": "0da6fcc0-d9ec-4d5a-8a72-727f6d164aef"
      },
      "execution_count": 8,
      "outputs": [
        {
          "output_type": "stream",
          "name": "stdout",
          "text": [
            "Chiều:  2\n",
            "Kích thước:  (3, 1)\n",
            "[[55]\n",
            " [90]\n",
            " [48]]\n"
          ]
        }
      ]
    },
    {
      "cell_type": "markdown",
      "source": [
        "Xét ma trận X ở câu 5, hãy tìm ma trận\n",
        "chuyển vị của X, ký hiệu là X\n",
        "T"
      ],
      "metadata": {
        "id": "QAoirXU9Ogi7"
      }
    },
    {
      "cell_type": "code",
      "source": [
        "print(\"Ma trận chuyển vị: \\n\", X.T)"
      ],
      "metadata": {
        "colab": {
          "base_uri": "https://localhost:8080/"
        },
        "id": "ZXKPI6mHOkNH",
        "outputId": "ef379785-eee2-4c7e-a053-94d84041b846"
      },
      "execution_count": 9,
      "outputs": [
        {
          "output_type": "stream",
          "name": "stdout",
          "text": [
            "Ma trận chuyển vị: \n",
            " [[1 6 4]\n",
            " [2 7 5]\n",
            " [3 8 7]\n",
            " [4 9 2]\n",
            " [5 2 1]]\n"
          ]
        }
      ]
    }
  ]
}